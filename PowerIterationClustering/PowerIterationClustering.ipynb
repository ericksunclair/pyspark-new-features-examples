{
 "cells": [
  {
   "cell_type": "code",
   "execution_count": 11,
   "metadata": {},
   "outputs": [],
   "source": [
    "# %conda install -y openjdk\n",
    "# %conda install -y pyspark\n",
    "# %conda install -y -c conda-forge findspark"
   ]
  },
  {
   "cell_type": "code",
   "execution_count": 12,
   "metadata": {},
   "outputs": [],
   "source": [
    "from pyspark.sql import SparkSession\n",
    "from pyspark.ml.clustering import PowerIterationClustering\n",
    "import os"
   ]
  },
  {
   "cell_type": "code",
   "execution_count": 13,
   "metadata": {},
   "outputs": [
    {
     "name": "stdout",
     "output_type": "stream",
     "text": [
      "Spark Version: 3.5.0\n"
     ]
    }
   ],
   "source": [
    "# start spark session\n",
    "spark = SparkSession.builder.appName(\"PowerIterationClustering Example\").getOrCreate()\n",
    "print('Spark Version: {}'.format(spark.version))"
   ]
  },
  {
   "cell_type": "code",
   "execution_count": 14,
   "metadata": {},
   "outputs": [
    {
     "name": "stderr",
     "output_type": "stream",
     "text": [
      "[Stage 0:>                                                          (0 + 8) / 8]\r"
     ]
    },
    {
     "name": "stdout",
     "output_type": "stream",
     "text": [
      "+---+---+------+\n",
      "|src|dst|weight|\n",
      "+---+---+------+\n",
      "|  1|  0|   0.5|\n",
      "|  2|  0|   0.5|\n",
      "|  2|  1|   0.7|\n",
      "|  3|  0|   0.5|\n",
      "|  3|  1|   0.7|\n",
      "|  3|  2|   0.9|\n",
      "|  4|  0|   0.5|\n",
      "|  4|  1|   0.7|\n",
      "|  4|  2|   0.9|\n",
      "|  4|  3|   1.1|\n",
      "|  5|  0|   0.5|\n",
      "|  5|  1|   0.7|\n",
      "|  5|  2|   0.9|\n",
      "|  5|  3|   1.1|\n",
      "|  5|  4|   1.3|\n",
      "+---+---+------+\n",
      "\n"
     ]
    },
    {
     "name": "stderr",
     "output_type": "stream",
     "text": [
      "                                                                                \r"
     ]
    }
   ],
   "source": [
    "# create graph dataset (edges)\n",
    "data = [(1, 0, 0.5),\n",
    "        (2, 0, 0.5), (2, 1, 0.7),\n",
    "        (3, 0, 0.5), (3, 1, 0.7), (3, 2, 0.9),\n",
    "        (4, 0, 0.5), (4, 1, 0.7), (4, 2, 0.9), (4, 3, 1.1),\n",
    "        (5, 0, 0.5), (5, 1, 0.7), (5, 2, 0.9), (5, 3, 1.1), (5, 4, 1.3)]\n",
    "df = spark.createDataFrame(data).toDF(\"src\", \"dst\", \"weight\").repartition(1)\n",
    "df.show()"
   ]
  },
  {
   "cell_type": "code",
   "execution_count": 15,
   "metadata": {},
   "outputs": [
    {
     "data": {
      "text/plain": [
       "PowerIterationClustering_ac1fcd513a58"
      ]
     },
     "execution_count": 15,
     "metadata": {},
     "output_type": "execute_result"
    }
   ],
   "source": [
    "# create PIC model\n",
    "pic = PowerIterationClustering(k=2, weightCol=\"weight\")\n",
    "pic.setMaxIter(40)"
   ]
  },
  {
   "cell_type": "code",
   "execution_count": 16,
   "metadata": {},
   "outputs": [
    {
     "name": "stdout",
     "output_type": "stream",
     "text": [
      "+---+-------+\n",
      "|id |cluster|\n",
      "+---+-------+\n",
      "|0  |0      |\n",
      "|1  |0      |\n",
      "|2  |0      |\n",
      "|3  |0      |\n",
      "|4  |0      |\n",
      "|5  |1      |\n",
      "+---+-------+\n",
      "\n"
     ]
    }
   ],
   "source": [
    "# apply PIC model to graph dataset\n",
    "assignments = pic.assignClusters(df)\n",
    "assignments.sort(assignments.id).show(truncate=False)"
   ]
  },
  {
   "cell_type": "code",
   "execution_count": 17,
   "metadata": {},
   "outputs": [],
   "source": [
    "# save PIC model\n",
    "pic_path = os.getcwd() + \"/pic\"\n",
    "pic.write().overwrite().save(pic_path)"
   ]
  },
  {
   "cell_type": "code",
   "execution_count": 18,
   "metadata": {},
   "outputs": [
    {
     "data": {
      "text/plain": [
       "2"
      ]
     },
     "execution_count": 18,
     "metadata": {},
     "output_type": "execute_result"
    }
   ],
   "source": [
    "# load PIC model\n",
    "pic2 = PowerIterationClustering.load(pic_path)\n",
    "pic2.getK()"
   ]
  },
  {
   "cell_type": "code",
   "execution_count": 19,
   "metadata": {},
   "outputs": [
    {
     "data": {
      "text/plain": [
       "40"
      ]
     },
     "execution_count": 19,
     "metadata": {},
     "output_type": "execute_result"
    }
   ],
   "source": [
    "pic2.getMaxIter()"
   ]
  },
  {
   "cell_type": "code",
   "execution_count": 20,
   "metadata": {},
   "outputs": [
    {
     "data": {
      "text/plain": [
       "True"
      ]
     },
     "execution_count": 20,
     "metadata": {},
     "output_type": "execute_result"
    }
   ],
   "source": [
    "# compare the cluster assignments from before with the assignments of the saved model\n",
    "pic2.assignClusters(df).take(6) == assignments.take(6)"
   ]
  },
  {
   "cell_type": "code",
   "execution_count": 21,
   "metadata": {},
   "outputs": [],
   "source": [
    "# stop session \n",
    "spark.stop()"
   ]
  }
 ],
 "metadata": {
  "kernelspec": {
   "display_name": "base",
   "language": "python",
   "name": "python3"
  },
  "language_info": {
   "codemirror_mode": {
    "name": "ipython",
    "version": 3
   },
   "file_extension": ".py",
   "mimetype": "text/x-python",
   "name": "python",
   "nbconvert_exporter": "python",
   "pygments_lexer": "ipython3",
   "version": "3.11.5"
  }
 },
 "nbformat": 4,
 "nbformat_minor": 2
}
